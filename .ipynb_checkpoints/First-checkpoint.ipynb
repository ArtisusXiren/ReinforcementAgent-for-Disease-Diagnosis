{
 "cells": [
  {
   "cell_type": "code",
   "execution_count": 1,
   "id": "b69d9621-3a15-4d46-bde8-cd058b206d23",
   "metadata": {
    "tags": []
   },
   "outputs": [],
   "source": [
    "import numpy as np\n",
    "import random\n",
    "import gym\n",
    "from collections import defaultdict\n",
    "from typing import Tuple"
   ]
  },
  {
   "cell_type": "code",
   "execution_count": 2,
   "id": "fd9dafd7-9cf1-4b79-abb1-3d85704455eb",
   "metadata": {
    "tags": []
   },
   "outputs": [],
   "source": [
    "class learningAgent:\n",
    "    def __init__(self,action_space,learning_rate=0.1,discount_factor=0.99,exploration_rate=1.0,exploration_decay=0.995):\n",
    "        self.action_space=action_space\n",
    "        self.lr=learning_rate\n",
    "        self.df=discount_factor\n",
    "        self.er=exploration_rate\n",
    "        self.ed=exploration_decay\n",
    "        self.q_table=defaultdict(lambda:np.zeros(action_space.n))\n",
    "        \n",
    "    def chose_action(self,state):\n",
    "        if random.uniform(0,1)<self.er:\n",
    "            return self.action_space.sample()\n",
    "        else:\n",
    "            return np.argmax(self.q_table[state])\n",
    "    def learn(self,state:tuple,action:int,reward:int,next_state:Tuple,done:bool):\n",
    "        next_state=tuple(next_state)\n",
    "        best_next_action=np.argmax(self.q_table[tuple(state)])\n",
    "        temporal_difference=reward+self.df*self.q_table[next_state][best_next_action]*(1-done)\n",
    "        td_delta=temporal_difference-self.q_table[state][action]\n",
    "        self.q_table[state][action]+=self.lr*td_delta\n",
    "        if done:\n",
    "            self.er*=self.ed\n"
   ]
  },
  {
   "cell_type": "code",
   "execution_count": 3,
   "id": "0514addb-b622-4725-8580-8a7d70f3ac52",
   "metadata": {
    "tags": []
   },
   "outputs": [
    {
     "name": "stderr",
     "output_type": "stream",
     "text": [
      "C:\\Users\\ArtisusXiren\\anaconda3\\Lib\\site-packages\\gym\\utils\\passive_env_checker.py:233: DeprecationWarning: `np.bool8` is a deprecated alias for `np.bool_`.  (Deprecated NumPy 1.24)\n",
      "  if not isinstance(terminated, (bool, np.bool8)):\n"
     ]
    },
    {
     "ename": "TypeError",
     "evalue": "unhashable type: 'numpy.ndarray'",
     "output_type": "error",
     "traceback": [
      "\u001b[1;31m---------------------------------------------------------------------------\u001b[0m",
      "\u001b[1;31mTypeError\u001b[0m                                 Traceback (most recent call last)",
      "Cell \u001b[1;32mIn[3], line 14\u001b[0m\n\u001b[0;32m     12\u001b[0m next_state, reward, done, info\u001b[38;5;241m=\u001b[39mresult[:\u001b[38;5;241m4\u001b[39m]\n\u001b[0;32m     13\u001b[0m next_state\u001b[38;5;241m=\u001b[39m\u001b[38;5;28mtuple\u001b[39m(next_state)\n\u001b[1;32m---> 14\u001b[0m agent\u001b[38;5;241m.\u001b[39mlearn(\u001b[38;5;28mtuple\u001b[39m(state),action,reward,next_state,done)\n\u001b[0;32m     15\u001b[0m state\u001b[38;5;241m=\u001b[39mnext_state\n\u001b[0;32m     16\u001b[0m total_reward\u001b[38;5;241m+\u001b[39m\u001b[38;5;241m=\u001b[39mreward\n",
      "Cell \u001b[1;32mIn[2], line 17\u001b[0m, in \u001b[0;36mlearningAgent.learn\u001b[1;34m(self, state, action, reward, next_state, done)\u001b[0m\n\u001b[0;32m     15\u001b[0m \u001b[38;5;28;01mdef\u001b[39;00m \u001b[38;5;21mlearn\u001b[39m(\u001b[38;5;28mself\u001b[39m,state:\u001b[38;5;28mtuple\u001b[39m,action:\u001b[38;5;28mint\u001b[39m,reward:\u001b[38;5;28mint\u001b[39m,next_state:Tuple,done:\u001b[38;5;28mbool\u001b[39m):\n\u001b[0;32m     16\u001b[0m     next_state\u001b[38;5;241m=\u001b[39m\u001b[38;5;28mtuple\u001b[39m(next_state)\n\u001b[1;32m---> 17\u001b[0m     best_next_action\u001b[38;5;241m=\u001b[39mnp\u001b[38;5;241m.\u001b[39margmax(\u001b[38;5;28mself\u001b[39m\u001b[38;5;241m.\u001b[39mq_table[\u001b[38;5;28mtuple\u001b[39m(state)])\n\u001b[0;32m     18\u001b[0m     temporal_difference\u001b[38;5;241m=\u001b[39mreward\u001b[38;5;241m+\u001b[39m\u001b[38;5;28mself\u001b[39m\u001b[38;5;241m.\u001b[39mdf\u001b[38;5;241m*\u001b[39m\u001b[38;5;28mself\u001b[39m\u001b[38;5;241m.\u001b[39mq_table[next_state][best_next_action]\u001b[38;5;241m*\u001b[39m(\u001b[38;5;241m1\u001b[39m\u001b[38;5;241m-\u001b[39mdone)\n\u001b[0;32m     19\u001b[0m     td_delta\u001b[38;5;241m=\u001b[39mtemporal_difference\u001b[38;5;241m-\u001b[39m\u001b[38;5;28mself\u001b[39m\u001b[38;5;241m.\u001b[39mq_table[state][action]\n",
      "\u001b[1;31mTypeError\u001b[0m: unhashable type: 'numpy.ndarray'"
     ]
    }
   ],
   "source": [
    "env=gym.make('CartPole-v1')\n",
    "agent=learningAgent(env.action_space)\n",
    "num_episodes=1000\n",
    "for episodes in range (num_episodes):\n",
    "    state=env.reset()\n",
    "    state=tuple(state)\n",
    "    done=False\n",
    "    total_reward=0\n",
    "    while not done:\n",
    "        action=agent.chose_action(state)\n",
    "        result=env.step(action)\n",
    "        next_state, reward, done, info=result[:4]\n",
    "        next_state=tuple(next_state)\n",
    "        agent.learn(tuple(state),action,reward,next_state,done)\n",
    "        state=next_state\n",
    "        total_reward+=reward\n",
    "    print(f\"Episode {episode+1}/{num_episodes}-Total Reward:{total_reward}\")\n",
    "env.close()\n",
    "        "
   ]
  },
  {
   "cell_type": "code",
   "execution_count": null,
   "id": "4531417e-a2cb-482f-bc82-ba819dcd3af0",
   "metadata": {},
   "outputs": [],
   "source": []
  }
 ],
 "metadata": {
  "kernelspec": {
   "display_name": "Python 3 (ipykernel)",
   "language": "python",
   "name": "python3"
  },
  "language_info": {
   "codemirror_mode": {
    "name": "ipython",
    "version": 3
   },
   "file_extension": ".py",
   "mimetype": "text/x-python",
   "name": "python",
   "nbconvert_exporter": "python",
   "pygments_lexer": "ipython3",
   "version": "3.11.5"
  }
 },
 "nbformat": 4,
 "nbformat_minor": 5
}
