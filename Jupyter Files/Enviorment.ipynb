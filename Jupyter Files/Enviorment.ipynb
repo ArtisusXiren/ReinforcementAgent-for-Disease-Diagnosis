{
 "cells": [
  {
   "cell_type": "code",
   "execution_count": 1,
   "id": "6b152b37-f13d-4d82-b82c-22cd662da7da",
   "metadata": {},
   "outputs": [],
   "source": [
    "import gym\n",
    "from gym import spaces\n",
    "import numpy as np"
   ]
  },
  {
   "cell_type": "code",
   "execution_count": 2,
   "id": "9a8544b9-28ca-4dc7-89b3-e99b3b6161d7",
   "metadata": {
    "tags": []
   },
   "outputs": [],
   "source": [
    "class CustomEnv(gym.Env):\n",
    "    def __init__(self):\n",
    "        super(CustomEnv,self).__init__()\n",
    "        self.observation_space=spaces.dict({\n",
    "            \"temperature\":spaces.Box(low=95.8,high=105.0,shape=(1,),dtype=np.float32),\n",
    "            \"symptoms\": spaces.MultiBinary(5),\n",
    "            \"age_group\": spaces.Discrete(4) })\n",
    "        self.action_space=spaces.dict({\n",
    "            \"treatment\":spaces.Discrete(5),\n",
    "            \"dosage\":spaces.Box(low=0.0,high=100.0,shape=(1,),dtype=np.float32)})\n",
    "        self.state={\n",
    "            \"temperature\":np.array([98.6],dtype=np.float32),\n",
    "            \"symptoms\": np.array([0,0,0,0,0],dtype=int),\n",
    "            \"age_group\":2}\n",
    "        self.done=False\n",
    "        self.symptoms_to_flu=np.array([1,1,1,0,0])\n",
    "        self.correct_diagnosis=10\n",
    "        self.incorrect_diagnosis_penalty=-10\n",
    "        self.asking_penalty=-1\n",
    "    def reset(self):\n",
    "        self.state={\n",
    "            \"temperature\":np.array([98.6],dtype=np.float32),\n",
    "            \"symptoms\": np.random_choice([0,1],size=(5,)),\n",
    "            \"age_group\":np.random_choice(4)\n",
    "        }\n",
    "        self.done=False\n",
    "        return self.state\n",
    "    def step(self,action):\n",
    "        treatment =self.action['treatment']\n",
    "        if treatment<5:\n",
    "            reward=self.asking_penalty\n",
    "            self.state[symptoms][treatment]=self.symptoms_to_flu[treatment]\n",
    "        else:\n",
    "            if treatment==5 and np.all(self.state==self.symptoms_to_flu):\n",
    "                reward=self.correct_diagnosis_reward\n",
    "            elif treatment==6 and np.all(self.state!=self.symptoms_to_flu):\n",
    "                reward=self.correct_diagnosis_reward\n",
    "            else:\n",
    "                reward=self.incorrect_diagnosis_penalty\n",
    "            self.done=True\n",
    "        return self.state,reward,self.done,{}\n",
    "    def render(self,mode='human'):\n",
    "        print(f\"State:{self.state}\")\n",
    "    def close(self):\n",
    "        pass\n",
    "    \n",
    "        \n",
    "            \n",
    "            "
   ]
  },
  {
   "cell_type": "code",
   "execution_count": null,
   "id": "9ee8c9cd-c2d6-4016-baa2-5d952d9c70f2",
   "metadata": {},
   "outputs": [],
   "source": []
  }
 ],
 "metadata": {
  "kernelspec": {
   "display_name": "Python 3 (ipykernel)",
   "language": "python",
   "name": "python3"
  },
  "language_info": {
   "codemirror_mode": {
    "name": "ipython",
    "version": 3
   },
   "file_extension": ".py",
   "mimetype": "text/x-python",
   "name": "python",
   "nbconvert_exporter": "python",
   "pygments_lexer": "ipython3",
   "version": "3.11.5"
  }
 },
 "nbformat": 4,
 "nbformat_minor": 5
}
